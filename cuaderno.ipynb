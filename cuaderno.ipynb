{
 "cells": [
  {
   "cell_type": "markdown",
   "id": "1325a582",
   "metadata": {},
   "source": [
    "\n",
    "# Comparación de rendimiento entre MySQL y Cassandra\n",
    "\n",
    "Este cuaderno proporciona instrucciones paso a paso y ejecuta directamente los scripts necesarios para cargar datos en MySQL y Cassandra, así como para realizar consultas.\n",
    "Recuerda instalar todas las liberias necesarias antes de ejecutar los códigos, para ello en la terminal escribir \"pip install nombre_libreria\"\n"
   ]
  },
  {
   "cell_type": "markdown",
   "id": "2303df50",
   "metadata": {},
   "source": [
    "## Instrucciones para generar los datos"
   ]
  },
  {
   "cell_type": "markdown",
   "id": "abd096ed",
   "metadata": {},
   "source": [
    "Ejecuta el siguiente código para generar el archivo `data.csv` con datos aleatorios:"
   ]
  },
  {
   "cell_type": "code",
   "execution_count": null,
   "id": "0f0f2107",
   "metadata": {},
   "outputs": [],
   "source": [
    "# Código para generar datos\n",
    "import csv\n",
    "from faker import Faker\n",
    "import random\n",
    "from tqdm import tqdm\n",
    "\n",
    "NUM_RECORDS = 10000000\n",
    "OUTPUT_FILE = 'data.csv'\n",
    "\n",
    "fake = Faker()\n",
    "emails = set()\n",
    "\n",
    "with open(OUTPUT_FILE, mode='w', newline='') as file:\n",
    "    writer = csv.writer(file)\n",
    "    writer.writerow([\"name\", \"email\", \"age\"])  # Header\n",
    "    \n",
    "    count = 0\n",
    "    with tqdm(total=NUM_RECORDS, desc=\"Generando datos\", unit=\"registros\") as pbar:\n",
    "        while count < NUM_RECORDS:\n",
    "            email = fake.email()\n",
    "            if email not in emails:  # Verifica si el email ya existe\n",
    "                emails.add(email)\n",
    "                writer.writerow([\n",
    "                    fake.name(),\n",
    "                    email,\n",
    "                    random.randint(0, 99)\n",
    "                ])\n",
    "                count += 1\n",
    "                pbar.update(1)  # Actualiza la barra de progreso\n",
    "\n",
    "print(f'{NUM_RECORDS} registros únicos generados en el archivo {OUTPUT_FILE}.')"
   ]
  },
  {
   "cell_type": "markdown",
   "id": "6eaf0cf0",
   "metadata": {},
   "source": [
    "## Instrucciones para levantar servidor MySQL y cargar los datos"
   ]
  },
  {
   "cell_type": "markdown",
   "id": "4adc80f9",
   "metadata": {},
   "source": [
    "\n",
    "1. Asegúrate de que MySQL esté corriendo. Si usas Docker, ejecuta:\n",
    "    ```bash\n",
    "    docker-compose up -d mysql\n",
    "    ```\n",
    "2. Asegúrate de que la base de datos esté configurada correctamente.\n"
   ]
  },
  {
   "cell_type": "code",
   "execution_count": null,
   "id": "13c23b77",
   "metadata": {},
   "outputs": [],
   "source": [
    "\n",
    "# Código para cargar datos en MySQL\n",
    "import mysql.connector\n",
    "import csv\n",
    "from mysql.connector import Error\n",
    "\n",
    "def insertar_datos():\n",
    "    try:\n",
    "        conn = mysql.connector.connect(\n",
    "            host='localhost',\n",
    "            user='user',\n",
    "            password='password'\n",
    "\n",
    "        )\n",
    "        if conn.is_connected():\n",
    "            print(\"Conexion creada\")\n",
    "            cursor = conn.cursor()\n",
    "\n",
    "            # Verificar si la base de datos existe, si no, crearla\n",
    "            cursor.execute(\"CREATE DATABASE IF NOT EXISTS mydatabase\")\n",
    "            print(\"Base de datos 'mydatabase' creada o ya existe\")\n",
    "\n",
    "            # Usar la base de datos\n",
    "            cursor.execute(\"USE mydatabase\")\n",
    "\n",
    "            # Crear la tabla si no existe\n",
    "# Crear tabla\n",
    "            cursor.execute(\"\"\"\n",
    "                CREATE TABLE IF NOT EXISTS users(\n",
    "                    name VARCHAR(50) NOT NULL,\n",
    "                    email VARCHAR(50),\n",
    "                    age INT\n",
    "                )\n",
    "            \"\"\")\n",
    "            print(\"tabla users creados\")\n",
    "#borrar todos los registros de la tabla usuarios para que no hayan copias\n",
    "            cursor.execute(\"DELETE FROM users\")\n",
    "            conn.commit()\n",
    "            print(\"registros anteriores eliminados\")\n",
    "            #leer datos del archivo csv\n",
    "            with open('data.csv', mode='r') as archivo_csv:\n",
    "                df = csv.reader(archivo_csv)\n",
    "                next(df)             \n",
    "                #insertar los datos\n",
    "                for fila in df:\n",
    "                    cursor.execute(\"\"\"\n",
    "                        INSERT INTO users(name, email, age)\n",
    "                        values(%s,%s,%s)\n",
    "                    \"\"\",fila)\n",
    "            #confirmar los cambios\n",
    "            conn.commit()\n",
    "            print(\"Se han insertado los registros en la base de datos\")\n",
    "\n",
    "    except Error as e:\n",
    "        print(\"error al conectar a la base de datos o al insertar los datos\", e)\n",
    "        \n",
    "    finally:\n",
    "        if conn.is_connected():\n",
    "            cursor.close()\n",
    "            conn.close()\n",
    "            print(\"conexion cerrada\")\n",
    "\n",
    "insertar_datos()\n"
   ]
  },
  {
   "cell_type": "markdown",
   "id": "ac65c329",
   "metadata": {},
   "source": [
    "## Instrucciones para levantar servidor Cassandra y cargar los datos"
   ]
  },
  {
   "cell_type": "markdown",
   "id": "c63c56b7",
   "metadata": {},
   "source": [
    "\n",
    "1. Asegúrate de que Cassandra esté corriendo. Si usas Docker, ejecuta:\n",
    "    ```bash\n",
    "    docker-compose up -d cassandra\n",
    "    ```\n",
    "2. Asegúrate de que la base de datos esté configurada correctamente.\n"
   ]
  },
  {
   "cell_type": "code",
   "execution_count": null,
   "id": "db626bd3",
   "metadata": {},
   "outputs": [],
   "source": [
    "\n",
    "# Código para cargar datos en Cassandra\n",
    "from cassandra.cluster import Cluster\n",
    "import csv\n",
    "\n",
    "cluster = Cluster([\"localhost\"])\n",
    "session = cluster.connect()\n",
    "\n",
    "# Crear keyspace y tabla\n",
    "session.execute(\"\"\"\n",
    "    CREATE KEYSPACE IF NOT EXISTS my_database\n",
    "    WITH REPLICATION = { 'class' : 'SimpleStrategy', 'replication_factor' : 1 };\n",
    "\"\"\")\n",
    "session.execute(\"USE my_database\")\n",
    "session.execute(\"\"\"\n",
    "    CREATE TABLE IF NOT EXISTS users (\n",
    "        name TEXT,\n",
    "        email TEXT PRIMARY KEY,\n",
    "        age INT\n",
    "    );\n",
    "\"\"\")\n",
    "\n",
    "# Insertar los datos desde el archivo CSV\n",
    "with open(\"data.csv\", mode=\"r\") as file:\n",
    "    reader = csv.DictReader(file)\n",
    "    for row in reader:\n",
    "        session.execute(\"\"\"\n",
    "            INSERT INTO users (name, email, age) VALUES (%s, %s, %s)\n",
    "        \"\"\", (row[\"name\"], row[\"email\"], int(row[\"age\"])))\n",
    "cluster.shutdown()\n"
   ]
  },
  {
   "cell_type": "markdown",
   "id": "e698d8ad",
   "metadata": {},
   "source": [
    "## Instrucciones para consultar los datos en MySQL"
   ]
  },
  {
   "cell_type": "markdown",
   "id": "8bdfb1d0",
   "metadata": {},
   "source": [
    "Ejecuta el siguiente código para realizar las consultas en MySQL:"
   ]
  },
  {
   "cell_type": "code",
   "execution_count": null,
   "id": "bc0da988",
   "metadata": {},
   "outputs": [],
   "source": [
    "\n",
    "# Código para realizar consultas en MySQL\n",
    "import pymysql\n",
    "import time\n",
    "\n",
    "# Conexión\n",
    "conn = pymysql.connect(host=\"localhost\", user=\"user\", password=\"password\", database=\"mydatabase\")\n",
    "cursor = conn.cursor()\n",
    "\n",
    "# Consulta 1: Promedio de edades\n",
    "start_time = time.time()\n",
    "cursor.execute(\"SELECT AVG(age) FROM users\")\n",
    "avg_age = cursor.fetchone()[0]\n",
    "end_time = time.time()\n",
    "print(f\"Promedio de edad en MySQL: {avg_age}\")\n",
    "print(f\"Tiempo de consulta (promedio de edades): {end_time - start_time:.4f} segundos\")\n",
    "\n",
    "# Consulta 2: Nombres que empiezan con 'R'\n",
    "start_time = time.time()\n",
    "cursor.execute(\"SELECT COUNT(*) FROM users WHERE name LIKE 'R%'\")\n",
    "count_names_with_r = cursor.fetchone()[0]\n",
    "end_time = time.time()\n",
    "print(f\"Cantidad de nombres que empiezan con 'R' en MySQL: {count_names_with_r}\")\n",
    "print(f\"Tiempo de consulta (nombres con 'R'): {end_time - start_time:.4f} segundos\")\n",
    "\n",
    "\n",
    "cursor.close()\n",
    "conn.close()\n"
   ]
  },
  {
   "cell_type": "markdown",
   "id": "0a6d518e",
   "metadata": {},
   "source": [
    "## Instrucciones para consultar los datos en Cassandra"
   ]
  },
  {
   "cell_type": "markdown",
   "id": "b6e9ddfb",
   "metadata": {},
   "source": [
    "Ejecuta el siguiente código para realizar las consultas en Cassandra:"
   ]
  },
  {
   "cell_type": "code",
   "execution_count": null,
   "id": "c10dd048",
   "metadata": {},
   "outputs": [],
   "source": [
    "\n",
    "# Código para realizar consultas en Cassandra\n",
    "from cassandra.cluster import Cluster\n",
    "import time\n",
    "\n",
    "# Conexión\n",
    "cluster = Cluster([\"localhost\"])\n",
    "session = cluster.connect()\n",
    "session.set_keyspace(\"my_database\")\n",
    "\n",
    "# Consulta 1: Promedio de edades\n",
    "start_time = time.time()\n",
    "rows = session.execute(\"SELECT age FROM users\")\n",
    "ages = [row.age for row in rows]\n",
    "avg_age = sum(ages) / len(ages)\n",
    "end_time = time.time()\n",
    "print(f\"Promedio de edad en Cassandra: {avg_age}\")\n",
    "print(f\"Tiempo de consulta (promedio de edades): {end_time - start_time:.4f} segundos\")\n",
    "\n",
    "# Consulta 2: Nombres que empiezan con 'R'\n",
    "start_time = time.time()\n",
    "rows = session.execute(\"SELECT name FROM users\")\n",
    "count_names_with_r = sum(1 for row in rows if row.name.startswith('R'))\n",
    "end_time = time.time()\n",
    "print(f\"Cantidad de nombres que empiezan con 'R' en Cassandra: {count_names_with_r}\")\n",
    "print(f\"Tiempo de consulta (nombres con 'R'): {end_time - start_time:.4f} segundos\")\n"
   ]
  }
 ],
 "metadata": {
  "kernelspec": {
   "display_name": "Python 3",
   "language": "python",
   "name": "python3"
  },
  "language_info": {
   "codemirror_mode": {
    "name": "ipython",
    "version": 3
   },
   "file_extension": ".py",
   "mimetype": "text/x-python",
   "name": "python",
   "nbconvert_exporter": "python",
   "pygments_lexer": "ipython3",
   "version": "3.12.2"
  }
 },
 "nbformat": 4,
 "nbformat_minor": 5
}
